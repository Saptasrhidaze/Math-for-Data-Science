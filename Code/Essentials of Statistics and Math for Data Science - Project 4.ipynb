{
 "cells": [
  {
   "cell_type": "code",
   "execution_count": 3,
   "id": "db5ce5f7-6f01-4250-91ab-0fb2bf81fd31",
   "metadata": {},
   "outputs": [
    {
     "name": "stdout",
     "output_type": "stream",
     "text": [
      "Defaulting to user installation because normal site-packages is not writeable\n",
      "Requirement already satisfied: pandas in c:\\programdata\\anaconda3\\lib\\site-packages (2.1.4)\n",
      "Requirement already satisfied: scipy in c:\\programdata\\anaconda3\\lib\\site-packages (1.11.4)\n",
      "Requirement already satisfied: numpy<2,>=1.23.2 in c:\\programdata\\anaconda3\\lib\\site-packages (from pandas) (1.26.4)\n",
      "Requirement already satisfied: python-dateutil>=2.8.2 in c:\\programdata\\anaconda3\\lib\\site-packages (from pandas) (2.8.2)\n",
      "Requirement already satisfied: pytz>=2020.1 in c:\\programdata\\anaconda3\\lib\\site-packages (from pandas) (2023.3.post1)\n",
      "Requirement already satisfied: tzdata>=2022.1 in c:\\programdata\\anaconda3\\lib\\site-packages (from pandas) (2023.3)\n",
      "Requirement already satisfied: six>=1.5 in c:\\programdata\\anaconda3\\lib\\site-packages (from python-dateutil>=2.8.2->pandas) (1.16.0)\n"
     ]
    }
   ],
   "source": [
    "!pip install pandas scipy"
   ]
  },
  {
   "cell_type": "code",
   "execution_count": null,
   "id": "eb84d9bf-7328-4586-8445-7636885262b9",
   "metadata": {},
   "outputs": [],
   "source": [
    "import pandas as pd\n",
    "from scipy import stats\n",
    "\n",
    "# Load the Excel file\n",
    "file_path = r\"C:\\Users\\sapta\\Downloads\\Sabrina Data (1).xlsx\"\n",
    "excel_data = pd.ExcelFile(file_path)\n",
    "\n",
    "# Load data from the relevant sheet\n",
    "data = excel_data.parse('Sheet2')\n",
    "\n",
    "# Extract the columns for nonsmoking and smoking patients\n",
    "nonsmoking_ages = data['Nonsmoking Patients'].dropna()\n",
    "smoking_ages = data['Smoking Patients'].dropna()\n",
    "\n",
    "# Calculate sample variances\n",
    "nonsmoking_variance = nonsmoking_ages.var(ddof=1)  # Sample variance\n",
    "smoking_variance = smoking_ages.var(ddof=1)        # Sample variance\n",
    "\n",
    "# Calculate sample means\n",
    "nonsmoking_mean = nonsmoking_ages.mean()\n",
    "smoking_mean = smoking_ages.mean()\n",
    "\n",
    "# Perform a two-sample t-test assuming unequal variances\n",
    "t_stat, p_value = stats.ttest_ind(smoking_ages, nonsmoking_ages, equal_var=False)\n",
    "\n",
    "# Display the results\n",
    "print(\"Sample Variances:\")\n",
    "print(f\"  Nonsmoking Patients Variance: {nonsmoking_variance}\")\n",
    "print(f\"  Smoking Patients Variance: {smoking_variance}\\n\")\n",
    "\n",
    "print(\"Sample Means:\")\n",
    "print(f\"  Nonsmoking Patients Mean Age: {nonsmoking_mean}\")\n",
    "print(f\"  Smoking Patients Mean Age: {smoking_mean}\\n\")\n",
    "\n",
    "print(\"t-Test Results (Unequal Variances):\")\n",
    "print(f\"  t-Statistic: {t_stat}\")\n",
    "print(f\"  p-Value: {p_value}\")\n",
    "\n",
    "# Decision based on significance level\n",
    "alpha = 0.05\n",
    "if p_value < alpha:\n",
    "    print(\"\\nConclusion: Reject the null hypothesis. There is a statistically significant difference in ages.\")\n",
    "else:\n",
    "    print(\"\\nConclusion: Fail to reject the null hypothesis. There is no statistically significant difference in ages.\")\n"
   ]
  },
  {
   "cell_type": "code",
   "execution_count": null,
   "id": "52cb2a7d-82e7-4746-80a9-32b71ab18caf",
   "metadata": {},
   "outputs": [],
   "source": []
  }
 ],
 "metadata": {
  "kernelspec": {
   "display_name": "Python 3 (ipykernel)",
   "language": "python",
   "name": "python3"
  },
  "language_info": {
   "codemirror_mode": {
    "name": "ipython",
    "version": 3
   },
   "file_extension": ".py",
   "mimetype": "text/x-python",
   "name": "python",
   "nbconvert_exporter": "python",
   "pygments_lexer": "ipython3",
   "version": "3.11.7"
  }
 },
 "nbformat": 4,
 "nbformat_minor": 5
}
